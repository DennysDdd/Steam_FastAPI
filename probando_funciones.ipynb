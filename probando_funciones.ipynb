{
 "cells": [
  {
   "cell_type": "code",
   "execution_count": 1,
   "metadata": {},
   "outputs": [],
   "source": [
    "import pandas as pd\n",
    "import numpy as np\n"
   ]
  },
  {
   "cell_type": "code",
   "execution_count": 2,
   "metadata": {},
   "outputs": [],
   "source": [
    "def cambiar_release(cadena_fecha):\n",
    "    \"\"\"\n",
    "    Esta funcion extrae unicamente el año del release_date\n",
    "    \"\"\"\n",
    "    if cadena_fecha==None:\n",
    "        return None\n",
    "    else:\n",
    "        return cadena_fecha.split(\"-\")[0]\n",
    "\n",
    "\n",
    "\n",
    "# ETL DE DF_REDUCIDO"
   ]
  },
  {
   "cell_type": "code",
   "execution_count": 3,
   "metadata": {},
   "outputs": [],
   "source": [
    "def evaluar_presencia_user(user_id):\n",
    "    if user_id!=None:\n",
    "        return True\n",
    "    else:\n",
    "        return False"
   ]
  },
  {
   "cell_type": "code",
   "execution_count": 4,
   "metadata": {},
   "outputs": [],
   "source": [
    "def valida_anio(anio1,anio2):\n",
    "    # Validamos que el año de 2 fechas sean consecuentes para evaluar en los filtros de la funcion counterreviews\n",
    "    anio1 = int(anio1)\n",
    "    anio2 = int(anio2)\n",
    "    if anio1>anio2:\n",
    "        return True\n",
    "    elif anio1>2023 or anio2>2023 or anio1<1950 or anio2<1950:\n",
    "        return True\n",
    "    else:\n",
    "        return False"
   ]
  },
  {
   "cell_type": "code",
   "execution_count": 5,
   "metadata": {},
   "outputs": [],
   "source": [
    "df_games = pd.read_json(\"clean_games.json\")\n",
    "df_reviews = pd.read_parquet(\"clean_reviews.parquet\")\n",
    "df_items = pd.read_parquet(\"australian_users_items.parquet\")\n",
    "df_genres = pd.read_json(\"clean_genre.json\")\n",
    "df_lista_genre = pd.read_json(\"dataframe_genre.json\")\n",
    "df_playtime = pd.read_parquet(\"parquet_generos.parquet\")\n",
    "\n",
    "df_reviews_copia1 = df_reviews.copy()\n",
    "\n",
    "# Ubicamos las filas donde  no se tenga informacion de posted\n",
    "indices_2 = df_reviews_copia1[\"posted\"][df_reviews_copia1[\"posted\"].apply(lambda x: x==None)].index\n",
    "\n",
    "# Para la consigna se trabaja unicamente los datos donde se conozca los años\n",
    "df_reviews_copia1.drop(indices_2,inplace=True,axis=0)\n",
    "df_reviews_copia1.reset_index(drop = True, inplace=True)\n",
    "\n",
    "\n",
    "\n",
    "# Aqui estamos pasando a formato fecha\n",
    "df_reviews_copia1[\"posted\"] = pd.to_datetime(df_reviews[\"posted\"])\n",
    "\n",
    "\n",
    "\n",
    "# Creamos un nuevo dataframe DF_REVIEWS_COPIA1\n"
   ]
  },
  {
   "cell_type": "code",
   "execution_count": 6,
   "metadata": {},
   "outputs": [],
   "source": [
    "\n",
    "\n",
    "# Reducimos el dataframe solo con las variables que necesitamos\n",
    "\n",
    "df_reducido = df_games.loc[:,[\"release_date\",\"price\",\"developer\"]]\n",
    "df_reducido[\"release_date\"] = df_reducido[\"release_date\"].apply(lambda x: cambiar_release(x))\n",
    "\n",
    "# CREAMOS OTRO DATAFRAME EN BASE A GAMES\n",
    "\n",
    "# Creamos un dataframe DF_COPIA\n",
    "df_reviews_copia2 = df_reviews.copy()\n",
    "df_reviews_copia2[\"posted\"] = df_reviews_copia2[\"posted\"].apply(lambda x: cambiar_release(x))\n"
   ]
  },
  {
   "cell_type": "code",
   "execution_count": 7,
   "metadata": {},
   "outputs": [
    {
     "data": {
      "text/html": [
       "<div>\n",
       "<style scoped>\n",
       "    .dataframe tbody tr th:only-of-type {\n",
       "        vertical-align: middle;\n",
       "    }\n",
       "\n",
       "    .dataframe tbody tr th {\n",
       "        vertical-align: top;\n",
       "    }\n",
       "\n",
       "    .dataframe thead th {\n",
       "        text-align: right;\n",
       "    }\n",
       "</style>\n",
       "<table border=\"1\" class=\"dataframe\">\n",
       "  <thead>\n",
       "    <tr style=\"text-align: right;\">\n",
       "      <th></th>\n",
       "      <th>user_id</th>\n",
       "      <th>steam_id</th>\n",
       "      <th>user_url</th>\n",
       "      <th>item_id</th>\n",
       "      <th>item_name</th>\n",
       "      <th>playtime_forever</th>\n",
       "    </tr>\n",
       "  </thead>\n",
       "  <tbody>\n",
       "    <tr>\n",
       "      <th>0</th>\n",
       "      <td>76561197970982479</td>\n",
       "      <td>76561197970982479</td>\n",
       "      <td>http://steamcommunity.com/profiles/76561197970...</td>\n",
       "      <td>10</td>\n",
       "      <td>Counter-Strike</td>\n",
       "      <td>6</td>\n",
       "    </tr>\n",
       "    <tr>\n",
       "      <th>1</th>\n",
       "      <td>76561197970982479</td>\n",
       "      <td>76561197970982479</td>\n",
       "      <td>http://steamcommunity.com/profiles/76561197970...</td>\n",
       "      <td>20</td>\n",
       "      <td>Team Fortress Classic</td>\n",
       "      <td>0</td>\n",
       "    </tr>\n",
       "    <tr>\n",
       "      <th>2</th>\n",
       "      <td>76561197970982479</td>\n",
       "      <td>76561197970982479</td>\n",
       "      <td>http://steamcommunity.com/profiles/76561197970...</td>\n",
       "      <td>30</td>\n",
       "      <td>Day of Defeat</td>\n",
       "      <td>7</td>\n",
       "    </tr>\n",
       "    <tr>\n",
       "      <th>3</th>\n",
       "      <td>76561197970982479</td>\n",
       "      <td>76561197970982479</td>\n",
       "      <td>http://steamcommunity.com/profiles/76561197970...</td>\n",
       "      <td>40</td>\n",
       "      <td>Deathmatch Classic</td>\n",
       "      <td>0</td>\n",
       "    </tr>\n",
       "    <tr>\n",
       "      <th>4</th>\n",
       "      <td>76561197970982479</td>\n",
       "      <td>76561197970982479</td>\n",
       "      <td>http://steamcommunity.com/profiles/76561197970...</td>\n",
       "      <td>50</td>\n",
       "      <td>Half-Life: Opposing Force</td>\n",
       "      <td>0</td>\n",
       "    </tr>\n",
       "    <tr>\n",
       "      <th>...</th>\n",
       "      <td>...</td>\n",
       "      <td>...</td>\n",
       "      <td>...</td>\n",
       "      <td>...</td>\n",
       "      <td>...</td>\n",
       "      <td>...</td>\n",
       "    </tr>\n",
       "    <tr>\n",
       "      <th>5153204</th>\n",
       "      <td>76561198329548331</td>\n",
       "      <td>76561198329548331</td>\n",
       "      <td>http://steamcommunity.com/profiles/76561198329...</td>\n",
       "      <td>346330</td>\n",
       "      <td>BrainBread 2</td>\n",
       "      <td>0</td>\n",
       "    </tr>\n",
       "    <tr>\n",
       "      <th>5153205</th>\n",
       "      <td>76561198329548331</td>\n",
       "      <td>76561198329548331</td>\n",
       "      <td>http://steamcommunity.com/profiles/76561198329...</td>\n",
       "      <td>373330</td>\n",
       "      <td>All Is Dust</td>\n",
       "      <td>0</td>\n",
       "    </tr>\n",
       "    <tr>\n",
       "      <th>5153206</th>\n",
       "      <td>76561198329548331</td>\n",
       "      <td>76561198329548331</td>\n",
       "      <td>http://steamcommunity.com/profiles/76561198329...</td>\n",
       "      <td>388490</td>\n",
       "      <td>One Way To Die: Steam Edition</td>\n",
       "      <td>3</td>\n",
       "    </tr>\n",
       "    <tr>\n",
       "      <th>5153207</th>\n",
       "      <td>76561198329548331</td>\n",
       "      <td>76561198329548331</td>\n",
       "      <td>http://steamcommunity.com/profiles/76561198329...</td>\n",
       "      <td>521570</td>\n",
       "      <td>You Have 10 Seconds 2</td>\n",
       "      <td>4</td>\n",
       "    </tr>\n",
       "    <tr>\n",
       "      <th>5153208</th>\n",
       "      <td>76561198329548331</td>\n",
       "      <td>76561198329548331</td>\n",
       "      <td>http://steamcommunity.com/profiles/76561198329...</td>\n",
       "      <td>519140</td>\n",
       "      <td>Minds Eyes</td>\n",
       "      <td>3</td>\n",
       "    </tr>\n",
       "  </tbody>\n",
       "</table>\n",
       "<p>5153209 rows × 6 columns</p>\n",
       "</div>"
      ],
      "text/plain": [
       "                   user_id           steam_id   \n",
       "0        76561197970982479  76561197970982479  \\\n",
       "1        76561197970982479  76561197970982479   \n",
       "2        76561197970982479  76561197970982479   \n",
       "3        76561197970982479  76561197970982479   \n",
       "4        76561197970982479  76561197970982479   \n",
       "...                    ...                ...   \n",
       "5153204  76561198329548331  76561198329548331   \n",
       "5153205  76561198329548331  76561198329548331   \n",
       "5153206  76561198329548331  76561198329548331   \n",
       "5153207  76561198329548331  76561198329548331   \n",
       "5153208  76561198329548331  76561198329548331   \n",
       "\n",
       "                                                  user_url item_id   \n",
       "0        http://steamcommunity.com/profiles/76561197970...      10  \\\n",
       "1        http://steamcommunity.com/profiles/76561197970...      20   \n",
       "2        http://steamcommunity.com/profiles/76561197970...      30   \n",
       "3        http://steamcommunity.com/profiles/76561197970...      40   \n",
       "4        http://steamcommunity.com/profiles/76561197970...      50   \n",
       "...                                                    ...     ...   \n",
       "5153204  http://steamcommunity.com/profiles/76561198329...  346330   \n",
       "5153205  http://steamcommunity.com/profiles/76561198329...  373330   \n",
       "5153206  http://steamcommunity.com/profiles/76561198329...  388490   \n",
       "5153207  http://steamcommunity.com/profiles/76561198329...  521570   \n",
       "5153208  http://steamcommunity.com/profiles/76561198329...  519140   \n",
       "\n",
       "                             item_name  playtime_forever  \n",
       "0                       Counter-Strike                 6  \n",
       "1                Team Fortress Classic                 0  \n",
       "2                        Day of Defeat                 7  \n",
       "3                   Deathmatch Classic                 0  \n",
       "4            Half-Life: Opposing Force                 0  \n",
       "...                                ...               ...  \n",
       "5153204                   BrainBread 2                 0  \n",
       "5153205                    All Is Dust                 0  \n",
       "5153206  One Way To Die: Steam Edition                 3  \n",
       "5153207          You Have 10 Seconds 2                 4  \n",
       "5153208                     Minds Eyes                 3  \n",
       "\n",
       "[5153209 rows x 6 columns]"
      ]
     },
     "execution_count": 7,
     "metadata": {},
     "output_type": "execute_result"
    }
   ],
   "source": [
    "df_items"
   ]
  },
  {
   "cell_type": "markdown",
   "metadata": {},
   "source": [
    "## Probando la funcion 1"
   ]
  },
  {
   "cell_type": "code",
   "execution_count": 7,
   "metadata": {},
   "outputs": [],
   "source": [
    "def user_data(user_id):\n",
    "    ''' Esta funcion retornara la cantidad de dinero que el usuario gasto en los juegos de steam, además devolvera un porcentaje de recomendaciones\n",
    "      en base a la cantidad de items(juegos) que posea\n",
    "\n",
    "      parameters:\n",
    "\n",
    "        user_id : id del usuario\n",
    "    '''\n",
    "    if evaluar_presencia_user(user_id): \n",
    "        user_id=str(user_id)\n",
    "        \n",
    "        # cantidad_items = df_items[df_items[\"user_id\"]==user_id].shape[0]\n",
    "        data = df_items[df_items[\"user_id\"]==user_id]\n",
    "        cantidad_juegos = data.shape[0]\n",
    "        mascara = data[\"item_id\"].isin(df_games[\"id\"])\n",
    "\n",
    "        # Aca observamos la cantidad de juegos del dataframe df_games que coinciden con los registros de data_items\n",
    "        juegos =data[mascara]   \n",
    "\n",
    "        # filas en las que se tiene la concidencia por id del item\n",
    "        indices = np.where(df_games['id'].isin(juegos[\"item_id\"]))[0]\n",
    "\n",
    "        precio_juegos =df_games.loc[indices,\"price\"]\n",
    "        gasto = sum(precio_juegos)\n",
    "\n",
    "        # Con esto accederemos a los reviews del usuario\n",
    "        review_usuario = df_reviews[df_reviews[\"user_id\"]== user_id]\n",
    "\n",
    "        # Uso  el dataframe juegoss[\"item_id\"] para filtrar los juegos que tienen recommend\n",
    "\n",
    "        mascara3 = review_usuario[\"item_id\"].isin(juegos[\"item_id\"])\n",
    "        commend_filas =review_usuario[mascara3]\n",
    "\n",
    "        # Se vuelve a hacer este filtrado pues se requiere certificar si realmente los juegos que coinciden entre los que el usuario tiene son la misma cantidad\n",
    "        # Que los que haya hecho review\n",
    "\n",
    "        suma_recommends = 0\n",
    "        for i in range(commend_filas.shape[0]):\n",
    "          if commend_filas.iloc[i,4]!=None:\n",
    "            suma_recommends+=commend_filas.iloc[i,4]\n",
    "        # Sumamos las recomendaciones, sabiendo los elementos True y False son tomados como elementos binario en la suma\n",
    "        try:\n",
    "           porcentaje = (suma_recommends/cantidad_juegos)*100\n",
    "        except ZeroDivisionError:\n",
    "          porcentaje = 0\n",
    "\n",
    "        return f\"\"\"La cantidad de dinero gastado por el usuario {user_id} es: {round(gasto,3)}\n",
    "El porcentaje de recomendación en base a su cantidad de items de: {cantidad_juegos} es {porcentaje}%\"\"\"\n",
    "        \n",
    "\n",
    "    else:\n",
    "       return \"Este usuario no existe\""
   ]
  },
  {
   "cell_type": "code",
   "execution_count": 8,
   "metadata": {},
   "outputs": [
    {
     "name": "stdout",
     "output_type": "stream",
     "text": [
      "La cantidad de dinero gastado por el usuario 76561197970982479 es: 0\n",
      "El porcentaje de recomendación en base a su cantidad de items de: 277 es 0.0%\n"
     ]
    }
   ],
   "source": [
    "data = user_data(\"76561197970982479\")\n",
    "print(data)"
   ]
  },
  {
   "cell_type": "markdown",
   "metadata": {},
   "source": [
    "# Ahora probaremos la segunda funcion"
   ]
  },
  {
   "cell_type": "code",
   "execution_count": 9,
   "metadata": {},
   "outputs": [],
   "source": [
    "def countreviews(fecha1,fecha2):\n",
    "    \"\"\"Esta funcion retornara la cantidad de usuarios y el porcentaje de recomendaciones entre 2 fechas específicas.\n",
    "\n",
    "       parameters:\n",
    "       fecha1: fecha inicial(start) con formato YYYY-MM-DD\n",
    "       fecha2: fecha final(end) con formato YYYY-MM-DD\n",
    "    \"\"\"\n",
    "    #Validamos las fechas que se ingresan\n",
    "    lista_fecha1=fecha1.split(\"-\")\n",
    "    lista_fecha2=fecha2.split(\"-\")\n",
    "    if valida_anio(lista_fecha1[0],lista_fecha2[0]):\n",
    "        return \"Fechas Incorrectas\"\n",
    "    elif (int(lista_fecha1[0])==int(lista_fecha2[0])) and (int(lista_fecha1[1])>int(lista_fecha2[1])):\n",
    "        return \"Fechas Incorrectas\"\n",
    "    elif (int(lista_fecha1[0])==int(lista_fecha2[0])) and (int(lista_fecha1[1])==int(lista_fecha2[1])) and (int(lista_fecha1[2])>int(lista_fecha2[2])):\n",
    "        return \"Fechas Incorrectas\"\n",
    "    else:\n",
    "        filas = df_reviews_copia1[\"posted\"][(df_reviews_copia1[\"posted\"]>fecha1) & (df_reviews_copia1[\"posted\"]<fecha2)].index\n",
    "        df_rango_fechas = df_reviews_copia1.loc[filas,:]\n",
    "        cantidad_personas = df_rango_fechas.shape[0]\n",
    "        recommends = sum(df_rango_fechas[\"recommend\"][df_rango_fechas[\"recommend\"]==True])\n",
    "        try:\n",
    "            porcentaje = (recommends/cantidad_personas)*100\n",
    "        except ValueError:\n",
    "            return f\"\"\"La cantidad de usuarios entre las fechas {fecha1} y {fecha2} es: {cantidad_personas},\n",
    "        ademas el porcentaje de recomendacion es 0%\"\"\"\n",
    "        except ZeroDivisionError:\n",
    "            return f\"\"\"La cantidad de usuarios entre las fechas {fecha1} y {fecha2} es: {cantidad_personas},\n",
    "        ademas el porcentaje de recomendacion es 0%\"\"\"\n",
    "        \n",
    "        else:\n",
    "            return f\"\"\"La cantidad de usuarios entre las fechas {fecha1} y {fecha2} es: {cantidad_personas},\n",
    "ademas el porcentaje de recomendacion es {porcentaje}%\"\"\""
   ]
  },
  {
   "cell_type": "code",
   "execution_count": 10,
   "metadata": {},
   "outputs": [
    {
     "name": "stdout",
     "output_type": "stream",
     "text": [
      "La cantidad de usuarios entre las fechas 2013-11-23 y 2014-01-20 es: 4443,\n",
      "ademas el porcentaje de recomendacion es 89.46657663740716%\n"
     ]
    }
   ],
   "source": [
    "fechas = countreviews(\"2013-11-23\",\"2014-01-20\")\n",
    "print(fechas)"
   ]
  },
  {
   "cell_type": "markdown",
   "metadata": {},
   "source": [
    "## Ahora probaremos la CUARTA funcion"
   ]
  },
  {
   "cell_type": "code",
   "execution_count": 67,
   "metadata": {},
   "outputs": [],
   "source": [
    "def userforgenre(genero):\n",
    "    genero=\"genre_\"+genero\n",
    "    if genero in df_playtime.columns:\n",
    "    \n",
    "        resultado = df_playtime\n",
    "        # Procedemos a  sacar el top de usuarios que hayan jugado mas por genero\n",
    "        resultado.sort_values(by=\"playtime_forever\",ascending = False,inplace = True)\n",
    "        users = resultado.iloc[0:5,:].loc[:,[\"user_id\",\"user_url\",\"playtime_forever\"]]\n",
    "        dicciona = users.to_dict(orient=\"records\") \n",
    "        \n",
    "        return dicciona\n",
    "        return \"Lo siento, ningun juego tiene este género\""
   ]
  },
  {
   "cell_type": "code",
   "execution_count": 68,
   "metadata": {},
   "outputs": [
    {
     "data": {
      "text/plain": [
       "[{'user_id': 'wolop',\n",
       "  'user_url': 'http://steamcommunity.com/id/wolop',\n",
       "  'playtime_forever': 642773},\n",
       " {'user_id': 'Evilutional',\n",
       "  'user_url': 'http://steamcommunity.com/id/Evilutional',\n",
       "  'playtime_forever': 635295},\n",
       " {'user_id': '76561198039832932',\n",
       "  'user_url': 'http://steamcommunity.com/profiles/76561198039832932',\n",
       "  'playtime_forever': 613411},\n",
       " {'user_id': 'tsunamitad',\n",
       "  'user_url': 'http://steamcommunity.com/id/tsunamitad',\n",
       "  'playtime_forever': 600068},\n",
       " {'user_id': 'jimmynoe',\n",
       "  'user_url': 'http://steamcommunity.com/id/jimmynoe',\n",
       "  'playtime_forever': 551719}]"
      ]
     },
     "execution_count": 68,
     "metadata": {},
     "output_type": "execute_result"
    }
   ],
   "source": [
    "df_super_seleccion = userforgenre(\"Education\")\n",
    "df_super_seleccion"
   ]
  },
  {
   "cell_type": "markdown",
   "metadata": {},
   "source": [
    "## Veamos la TERCERA funcion"
   ]
  },
  {
   "cell_type": "code",
   "execution_count": 51,
   "metadata": {},
   "outputs": [],
   "source": [
    "def genre(genero):\n",
    "    \"\"\"\n",
    "    Esta funcion devuelve el puesto en el que se encuentra dicho genero\n",
    "    \"\"\"\n",
    "    \n",
    "    if genero in df_lista_genre[\"genre\"].values:\n",
    "        filtro = df_lista_genre[\"playtime_forever(minutes)\"][df_lista_genre[\"genre\"]==genero]\n",
    "        puesto = filtro.index[0]\n",
    "        horas = filtro.values[0]\n",
    "        return f\"El puesto de {genero} es {puesto}, con {horas} horas\"\n",
    "        \n",
    "    else:\n",
    "        return \"Este genero no existe\""
   ]
  },
  {
   "cell_type": "code",
   "execution_count": 52,
   "metadata": {},
   "outputs": [
    {
     "data": {
      "text/plain": [
       "'El puesto de Education es 19, con 415556 horas'"
      ]
     },
     "execution_count": 52,
     "metadata": {},
     "output_type": "execute_result"
    }
   ],
   "source": [
    "listado = genre(\"Education\")\n",
    "listado"
   ]
  },
  {
   "cell_type": "markdown",
   "metadata": {},
   "source": [
    "## Ahora haremos la funcion 5"
   ]
  },
  {
   "cell_type": "code",
   "execution_count": null,
   "metadata": {},
   "outputs": [],
   "source": [
    "def developer(desarrollador):\n",
    "    \"\"\"\n",
    "    Esta funcion extrae el porcentaje de juegos que han sido Free(sin costo) por desarrollador y por año\n",
    "    \"\"\"\n",
    "    df_desarrollador = df_reducido[df_reducido[\"developer\"]==desarrollador]\n",
    "    fechas = df_desarrollador[\"release_date\"].unique()\n",
    "    \n",
    "    # Creamos un diccionario con los pares años, y precios\n",
    "    diccionario_anios = {}\n",
    "    diccionario_tamanio = {}\n",
    "    for i in fechas:\n",
    "        df_free = df_desarrollador[df_desarrollador[\"release_date\"]==i]\n",
    "        diccionario_anios[i]=len(df_free[df_free[\"price\"]==0])\n",
    "        diccionario_tamanio[i]=df_free.shape[0]\n",
    "\n",
    "    # Se extrae la cantidad de items en total, y aquellos que no son free\n",
    "\n",
    "    diccionario_cantidades=  {}\n",
    "\n",
    "    for i in diccionario_anios:\n",
    "        try:\n",
    "            diccionario_cantidades[i]= (diccionario_anios[i]/diccionario_tamanio[i])*100\n",
    "        except ZeroDivisionError:\n",
    "            diccionario_cantidades[i]=0\n",
    "            \n",
    "    # Se muestra el porcentaje de juegos free del desarrollador por año\n",
    "    df_mostrar = pd.DataFrame({'años': diccionario_cantidades.keys() , \"Porcentaje Free(%)\" : diccionario_cantidades.values()})\n",
    "    return df_mostrar"
   ]
  },
  {
   "cell_type": "code",
   "execution_count": null,
   "metadata": {},
   "outputs": [],
   "source": [
    "prueba = developer(\"Secret Level SRL\")\n",
    "prueba"
   ]
  },
  {
   "cell_type": "markdown",
   "metadata": {},
   "source": [
    "## Veamos la ultima funcion"
   ]
  },
  {
   "cell_type": "code",
   "execution_count": 11,
   "metadata": {},
   "outputs": [],
   "source": [
    "def sentiment_analysis(anio):\n",
    "    anio = str(anio)\n",
    "    if anio <= \"2015\":\n",
    "        seleccionado = df_reviews_copia2[df_reviews_copia2[\"posted\"] == anio]\n",
    "        resultado = seleccionado[\"review\"].value_counts()\n",
    "        final = pd.DataFrame(resultado)\n",
    "        final.index = [\"Neutro\", \"Positivo\", \"Negativo\"]\n",
    "        return final\n",
    "    else:\n",
    "        return \"No hay data de ese año\"\n"
   ]
  },
  {
   "cell_type": "code",
   "execution_count": 12,
   "metadata": {},
   "outputs": [],
   "source": [
    "def trans_review(cadena):\n",
    "    if type(cadena)!=str:\n",
    "        return str(cadena)\n",
    "    else:\n",
    "        return cadena"
   ]
  },
  {
   "cell_type": "code",
   "execution_count": 17,
   "metadata": {},
   "outputs": [
    {
     "data": {
      "text/plain": [
       "review\n",
       "1    417\n",
       "2    110\n",
       "0      5\n",
       "Name: count, dtype: int64"
      ]
     },
     "execution_count": 17,
     "metadata": {},
     "output_type": "execute_result"
    }
   ],
   "source": [
    "resultado = seleccionado[\"review\"].value_counts()\n",
    "resultado"
   ]
  },
  {
   "cell_type": "code",
   "execution_count": 36,
   "metadata": {},
   "outputs": [],
   "source": [
    "def sentiment_analysis(anio):\n",
    "   \n",
    "    if anio <= 2015:\n",
    "        anio = str(anio)\n",
    "        seleccionado = df_reviews_copia2[df_reviews_copia2[\"posted\"] == anio]\n",
    "        resultado = seleccionado[\"review\"].value_counts()\n",
    "        resultado = resultado.to_dict()\n",
    "        return dict(zip([\"Neutro\",\"Positivo\",\"Negativo\"],resultado.values()))\n",
    "    else:\n",
    "        return \"No hay data de ese año\"\n"
   ]
  },
  {
   "cell_type": "code",
   "execution_count": 29,
   "metadata": {},
   "outputs": [],
   "source": [
    "seleccionado = df_reviews_copia2[df_reviews_copia2[\"posted\"] == \"2011\"]\n",
    "resultado = seleccionado[\"review\"].value_counts()"
   ]
  },
  {
   "cell_type": "code",
   "execution_count": 33,
   "metadata": {},
   "outputs": [
    {
     "data": {
      "text/plain": [
       "{1: 417, 2: 110, 0: 5}"
      ]
     },
     "execution_count": 33,
     "metadata": {},
     "output_type": "execute_result"
    }
   ],
   "source": [
    "resultado.to_dict()"
   ]
  },
  {
   "cell_type": "code",
   "execution_count": 37,
   "metadata": {},
   "outputs": [
    {
     "data": {
      "text/plain": [
       "{'Neutro': 417, 'Positivo': 110, 'Negativo': 5}"
      ]
     },
     "execution_count": 37,
     "metadata": {},
     "output_type": "execute_result"
    }
   ],
   "source": [
    "sentiment_analysis(2011)"
   ]
  }
 ],
 "metadata": {
  "kernelspec": {
   "display_name": "Python 3",
   "language": "python",
   "name": "python3"
  },
  "language_info": {
   "codemirror_mode": {
    "name": "ipython",
    "version": 3
   },
   "file_extension": ".py",
   "mimetype": "text/x-python",
   "name": "python",
   "nbconvert_exporter": "python",
   "pygments_lexer": "ipython3",
   "version": "3.10.7"
  },
  "orig_nbformat": 4
 },
 "nbformat": 4,
 "nbformat_minor": 2
}
